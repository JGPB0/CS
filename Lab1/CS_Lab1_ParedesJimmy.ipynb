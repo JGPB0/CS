{
  "nbformat": 4,
  "nbformat_minor": 0,
  "metadata": {
    "colab": {
      "provenance": [],
      "authorship_tag": "ABX9TyN+By++6s1/TqpCfzf1/pCj",
      "include_colab_link": true
    },
    "kernelspec": {
      "name": "python3",
      "display_name": "Python 3"
    },
    "language_info": {
      "name": "python"
    }
  },
  "cells": [
    {
      "cell_type": "markdown",
      "metadata": {
        "id": "view-in-github",
        "colab_type": "text"
      },
      "source": [
        "<a href=\"https://colab.research.google.com/github/JGPB0/CS/blob/main/Lab1/CS_Lab1_ParedesJimmy.ipynb\" target=\"_parent\"><img src=\"https://colab.research.google.com/assets/colab-badge.svg\" alt=\"Open In Colab\"/></a>"
      ]
    },
    {
      "cell_type": "markdown",
      "source": [
        "# Cipher Fundamentals\n",
        "## Paredes Jimmy"
      ],
      "metadata": {
        "id": "r7L7UuNt9Dg6"
      }
    },
    {
      "cell_type": "markdown",
      "source": [
        "##Exercise 1: Base-64 encoding, hexadecimal representation, and modulus operator."
      ],
      "metadata": {
        "id": "opbyyoGoCEwJ"
      }
    },
    {
      "cell_type": "markdown",
      "source": [
        "###1. Develop a web application that allows users to determine certain properties of numbers.\n",
        "* Prime Number Checker:\n",
        "  * Provide an input field where users can enter a number.\n",
        "  * Implement a button that, when clicked, checks if the entered number is prime or not.\n",
        "  * Display the result indicating whether the number is prime or not.\n",
        "* GCD Calculator:\n",
        "  * Present two input fields where users can enter two numbers.\n",
        "  * Implement a button that, when clicked, calculates the Greatest Common Divisor (GCD) of the two entered numbers.\n",
        "  * Display the GCD result to the user.\n",
        "\n",
        "[Github repository with the code of the Web application](https://github.com/JGPB0/CS/blob/main/Lab1/WebApp.html)"
      ],
      "metadata": {
        "id": "bgNeUe5mCMXf"
      }
    },
    {
      "cell_type": "markdown",
      "source": [
        "###2. Determine the Base 64 , Hex and Binary values for the following strings:\n",
        "  * Hola:\n",
        "    * Base64: SG9sYQ==\n",
        "    * Hexadecimal: 486f6c61\n",
        "    * Binary: 0100100001101111011011000110000101100001\n",
        "  * HOLA:\n",
        "    * Base64: SE9MQQ==\n",
        "    * Hexadecimal: 484f4c41\n",
        "    * Binary: 01001000010011110100110001000001\n",
        "  * HolA:\n",
        "    * Base64: SG9sQQ==\n",
        "    * Hexadecimal: 486f6c41\n",
        "    * Binary: 01001000011011110110010001000001\n"
      ],
      "metadata": {
        "id": "KIiRzpIlDFrp"
      }
    },
    {
      "cell_type": "markdown",
      "source": [
        "###3. Determine the following ASCII strings for these encoded formats:\n",
        "  * 45637561646F72\n",
        "    * ASCII: Ecuador\n",
        "  * 01011001 01000001 01000011 01001000 01000001 01011001 01010100 01000101 01000011 01001000\n",
        "    * ASCII: YACHAYTECH\n",
        "  * U2VndXJpZGFkIEluZm9ybT90aWNh\n",
        "    * ASCII: Seguridad Inform?tica\n",
        "  * RXNjdWVsYSBkZSBjaWVuY2lhcyBNYXRlbT90aWNhcyB5IENvbXB1dGFjaW9uYWxlcw==\n",
        "    * ASCII: Escuela de ciencias Matem?ticas y Computacionales\n"
      ],
      "metadata": {
        "id": "_k-AOHWjDGNw"
      }
    },
    {
      "cell_type": "markdown",
      "source": [
        "###4. Using Python, what is the result of 7669 (mod 453)? Prove that this result is correct."
      ],
      "metadata": {
        "id": "bkGxX3PQDL1F"
      }
    },
    {
      "cell_type": "code",
      "source": [
        "print(f\"The result of 7669(mod 453) is: {7669%453}\")"
      ],
      "metadata": {
        "colab": {
          "base_uri": "https://localhost:8080/"
        },
        "id": "NtVkGOlrDRFz",
        "outputId": "0f3a0ce0-0205-4bca-a6db-c6cde653b3e1"
      },
      "execution_count": null,
      "outputs": [
        {
          "output_type": "stream",
          "name": "stdout",
          "text": [
            "The result of 7669(mod 453) is: 421\n"
          ]
        }
      ]
    },
    {
      "cell_type": "markdown",
      "source": [
        "The result is indeed right because: 7669-16*453 = 421"
      ],
      "metadata": {
        "id": "C4Ge5bDmEucw"
      }
    },
    {
      "cell_type": "markdown",
      "source": [
        "## Exercise 2: Greatest common divisor GCD."
      ],
      "metadata": {
        "id": "lXmaBGlOB5BZ"
      }
    },
    {
      "cell_type": "markdown",
      "source": [
        "###1. Write a Python program to determine the GCD for the following:\n",
        "  * 7001 and 10.\n",
        "  * 4539 and 6."
      ],
      "metadata": {
        "id": "AQEWyyUcB-IS"
      }
    },
    {
      "cell_type": "code",
      "source": [
        "def find_gcd(a, b):\n",
        "    while b:\n",
        "        a, b = b, a % b\n",
        "    return a\n",
        "\n",
        "print(f\"The GCD of 7001 and 10 is: {find_gcd(7001, 10)}\")\n",
        "print(f\"The GCD of 4539 and 6 is: {find_gcd(4539, 6)}\")"
      ],
      "metadata": {
        "colab": {
          "base_uri": "https://localhost:8080/"
        },
        "id": "yBdYU5U5FCHH",
        "outputId": "4ffe9211-f2ec-4638-f0b7-d4a0e6793f0e"
      },
      "execution_count": null,
      "outputs": [
        {
          "output_type": "stream",
          "name": "stdout",
          "text": [
            "The GCD of 7001 and 10 is: 1\n",
            "The GCD of 4539 and 6 is: 3\n"
          ]
        }
      ]
    },
    {
      "cell_type": "markdown",
      "source": [
        "###2. Two numbers are co-prime if they do not share co-factors, apart from 1, which is gcd(a,b)=1. Determine if the following values are co-prime:\n",
        "  * 5435 and 634\n",
        "  * 5432 and 634"
      ],
      "metadata": {
        "id": "eg73OAs7FCQo"
      }
    },
    {
      "cell_type": "code",
      "source": [
        "def are_coprime(a, b):\n",
        "    def find_gcd(x, y):\n",
        "        while y:\n",
        "            x, y = y, x % y\n",
        "        return x\n",
        "\n",
        "    gcd = find_gcd(a, b)\n",
        "    return gcd == 1\n",
        "\n",
        "def print_coprime(num1, num2):\n",
        "    if are_coprime(num1, num2):\n",
        "        print(f\"{num1} and {num2} are co-prime.\")\n",
        "    else:\n",
        "        print(f\"{num1} and {num2} are not co-prime.\")\n",
        "\n",
        "num1 = 5435; num2 = 634; num3 = 5432\n",
        "\n",
        "print_coprime(num1, num2)\n",
        "print_coprime(num3, num2)"
      ],
      "metadata": {
        "colab": {
          "base_uri": "https://localhost:8080/"
        },
        "id": "ZPKCKXhgFEW3",
        "outputId": "c286a19f-5646-47dc-db42-f72f0fd398f5"
      },
      "execution_count": null,
      "outputs": [
        {
          "output_type": "stream",
          "name": "stdout",
          "text": [
            "5435 and 634 are co-prime.\n",
            "5432 and 634 are not co-prime.\n"
          ]
        }
      ]
    },
    {
      "cell_type": "markdown",
      "source": [
        "##Exercise 3. Modulus and Exponentiation"
      ],
      "metadata": {
        "id": "-0d24CJ08o3O"
      }
    },
    {
      "cell_type": "markdown",
      "source": [
        "###1. What is the result of the following:\n",
        " * 8¹³ mod(271)\n",
        " * 12²³ mod(973)"
      ],
      "metadata": {
        "id": "t8UJhKwG9TpR"
      }
    },
    {
      "cell_type": "code",
      "execution_count": null,
      "metadata": {
        "colab": {
          "base_uri": "https://localhost:8080/"
        },
        "id": "z457GrgC8iTq",
        "outputId": "c65550fe-7e6b-4001-d303-ffab54121f81"
      },
      "outputs": [
        {
          "output_type": "stream",
          "name": "stdout",
          "text": [
            "8¹³ mod(271) is: 119\n",
            "12²³ mod(973) is: 514\n"
          ]
        }
      ],
      "source": [
        "print(f\"8¹³ mod(271) is: {(8**13)%271}\")\n",
        "print(f\"12²³ mod(973) is: {(12**23)%973}\")"
      ]
    },
    {
      "cell_type": "markdown",
      "source": [
        "###2. Implement a Python program which will determine the result of C = M<sup>e</sup> mod(p)\n",
        "Prove the following:\n",
        "  * message = 101, e=7, p = 293\n",
        "  * message = 4, e=11, p = 79\n",
        "  * message = 5, e=5, p = 53\n"
      ],
      "metadata": {
        "id": "8D7_BozA_t37"
      }
    },
    {
      "cell_type": "code",
      "source": [
        "def expon_ciphers(m, e, p):\n",
        "    c = (m ** e) % p\n",
        "    return c\n",
        "\n",
        "m1 = 101; e1 = 7;  p1 = 293\n",
        "m2 = 4;   e2 = 11; p2 = 79\n",
        "m3 = 5;   e3 = 5;  p3 = 53\n",
        "\n",
        "print(f\"The result of C with message=101, e=7 and p=293 is: {expon_ciphers(m1,e1,p1)}\")\n",
        "print(f\"The result of C with message=4, e=11 and p=79 is: {expon_ciphers(m2,e2,p2)}\")\n",
        "print(f\"The result of C with message=5, e=5 and p=53 is: {expon_ciphers(m3,e3,p3)}\")"
      ],
      "metadata": {
        "colab": {
          "base_uri": "https://localhost:8080/"
        },
        "id": "GRRjWEKG_uCQ",
        "outputId": "7b2b7d4e-ee36-45df-e189-3b7d4664c1f0"
      },
      "execution_count": null,
      "outputs": [
        {
          "output_type": "stream",
          "name": "stdout",
          "text": [
            "The result of C with message=101, e=7 and p=293 is: 176\n",
            "The result of C with message=4, e=11 and p=79 is: 36\n",
            "The result of C with message=5, e=5 and p=53 is: 51\n"
          ]
        }
      ]
    },
    {
      "cell_type": "markdown",
      "source": [
        "###3. Implement the Python code given above and determine the highest prime number possible in the following ranges:\n",
        "  * Up to 100\n",
        "  * Up to 1000\n",
        "  * Up to 5000\n",
        "  * Up to 10000"
      ],
      "metadata": {
        "id": "jSbeEVIG_uKL"
      }
    },
    {
      "cell_type": "code",
      "source": [
        "from sympy import primerange\n",
        "\n",
        "def find_highest_prime(limit):\n",
        "    primes = list(primerange(2, limit + 1))\n",
        "    return max(primes)\n",
        "\n",
        "ranges = [100, 1000, 5000, 10000]\n",
        "\n",
        "for limit in ranges:\n",
        "    highest_prime = find_highest_prime(limit)\n",
        "    print(f\"Highest prime up to {limit}: {highest_prime}\")"
      ],
      "metadata": {
        "id": "kgwONswq_uTk",
        "colab": {
          "base_uri": "https://localhost:8080/"
        },
        "outputId": "3c1abe63-da59-4086-a004-ee642aef8629"
      },
      "execution_count": 1,
      "outputs": [
        {
          "output_type": "stream",
          "name": "stdout",
          "text": [
            "Highest prime up to 100: 97\n",
            "Highest prime up to 1000: 997\n",
            "Highest prime up to 5000: 4999\n",
            "Highest prime up to 10000: 9973\n"
          ]
        }
      ]
    },
    {
      "cell_type": "markdown",
      "source": [
        "###4. Which of the following numbers are prime numbers:\n",
        "  * Is 858599509 prime? **Yes**\n",
        "  * Is 982451653 prime? **Yes**\n",
        "  * Is 982451652 prime? **No**"
      ],
      "metadata": {
        "id": "ZL1N8qmf_gSg"
      }
    },
    {
      "cell_type": "markdown",
      "source": [
        "## Exercise 4. Random numbers"
      ],
      "metadata": {
        "id": "c0xoV3p_EUad"
      }
    },
    {
      "cell_type": "markdown",
      "source": [
        "###1. Implement the Python code given above. Using: a=21, seed=35, c=31, and m=100, prove that the sequence gives 66 17 88 79 90."
      ],
      "metadata": {
        "id": "Mx4E3wTmEX0s"
      }
    },
    {
      "cell_type": "code",
      "source": [
        "def rand_num(a, seed, c, m, num):\n",
        "    x = []\n",
        "    for _ in range(num):\n",
        "        seed = (a*seed+c)%m\n",
        "        x.append(seed)\n",
        "    return x\n",
        "\n",
        "a = 21; seed = 35; c = 31; m = 100; num = 5\n",
        "print(f'The sequence with a={a}, seed={seed}, c={c} and m={m} is: {rand_num(a, seed, c, m, num)}')"
      ],
      "metadata": {
        "colab": {
          "base_uri": "https://localhost:8080/"
        },
        "id": "hKUDxxfTGCr4",
        "outputId": "d8617e8e-e0f2-4aaa-9f22-deec83133d92"
      },
      "execution_count": null,
      "outputs": [
        {
          "output_type": "stream",
          "name": "stdout",
          "text": [
            "The sequence with a=21, seed=35, c=31 and m=100 is: [66, 17, 88, 79, 90]\n"
          ]
        }
      ]
    },
    {
      "cell_type": "markdown",
      "source": [
        "So, the code above proves that the sequence is obtained with the given data.\n"
      ],
      "metadata": {
        "id": "Pt7okT-aGl__"
      }
    },
    {
      "cell_type": "markdown",
      "source": [
        "###2. Determine the sequence for: a=22, seed=35, c=31, and m=100. First four numbers of sequence?\n"
      ],
      "metadata": {
        "id": "r0mpt2MiGCyI"
      }
    },
    {
      "cell_type": "code",
      "source": [
        "a = 22; seed = 35; c = 31; m = 100; num = 4\n",
        "print(f'The first {num} numbers of the sequence with a={a}, seed={seed}, c={c} and m={m} is: {rand_num(a, seed, c, m, num)}')"
      ],
      "metadata": {
        "colab": {
          "base_uri": "https://localhost:8080/"
        },
        "id": "_jPSC-AFGHQ1",
        "outputId": "c80a03f4-bd05-4465-b94e-f331fcfa3701"
      },
      "execution_count": null,
      "outputs": [
        {
          "output_type": "stream",
          "name": "stdout",
          "text": [
            "The first 4 numbers of the sequence with a=22, seed=35, c=31 and m=100 is: [1, 53, 97, 65]\n"
          ]
        }
      ]
    },
    {
      "cell_type": "markdown",
      "source": [
        "###3. Determine the sequence for: a=954365343, seed=436241, c=55119927, and m=1000000. First four numbers of sequence?"
      ],
      "metadata": {
        "id": "SgIeZ1OsGHYQ"
      }
    },
    {
      "cell_type": "code",
      "source": [
        "a = 954365343; seed = 436241; c = 55119927; m = 1000000; num = 4\n",
        "print(f'The first {num} numbers of the sequence with a={a}, seed={seed}, c={c} and m={m} is: {rand_num(a, seed, c, m, num)}')"
      ],
      "metadata": {
        "colab": {
          "base_uri": "https://localhost:8080/"
        },
        "id": "YWwezwm7GJMO",
        "outputId": "b0c022cd-e84a-4c82-b6d6-d962d4e2dec1"
      },
      "execution_count": null,
      "outputs": [
        {
          "output_type": "stream",
          "name": "stdout",
          "text": [
            "The first 4 numbers of the sequence with a=954365343, seed=436241, c=55119927 and m=1000000 is: [715590, 917297, 157798, 514641]\n"
          ]
        }
      ]
    },
    {
      "cell_type": "markdown",
      "source": [
        "###4. Determine the sequence for: a=2175143, seed=3553, c=10653, and m=1000000. First four numbers of sequence?"
      ],
      "metadata": {
        "id": "XpR8c3M2GJSw"
      }
    },
    {
      "cell_type": "code",
      "source": [
        "a = 2175143; seed = 3553; c = 10653; m = 1000000; num = 4\n",
        "print(f'The first {num} numbers of the sequence with a={a}, seed={seed}, c={c} and m={m} is: {rand_num(a, seed, c, m, num)}')"
      ],
      "metadata": {
        "colab": {
          "base_uri": "https://localhost:8080/"
        },
        "id": "zE85Ni5kGMG5",
        "outputId": "31756809-aa5d-4995-d8d5-d78b373bb3a1"
      },
      "execution_count": null,
      "outputs": [
        {
          "output_type": "stream",
          "name": "stdout",
          "text": [
            "The first 4 numbers of the sequence with a=2175143, seed=3553, c=10653 and m=1000000 is: [293732, 114329, 934700, 172753]\n"
          ]
        }
      ]
    }
  ]
}